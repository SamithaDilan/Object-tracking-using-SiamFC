{
  "nbformat": 4,
  "nbformat_minor": 0,
  "metadata": {
    "colab": {
      "name": "SiamFC.ipynb",
      "provenance": [],
      "collapsed_sections": []
    },
    "kernelspec": {
      "display_name": "Python 3",
      "name": "python3"
    },
    "language_info": {
      "name": "python"
    },
    "accelerator": "GPU"
  },
  "cells": [
    {
      "cell_type": "code",
      "metadata": {
        "colab": {
          "base_uri": "https://localhost:8080/"
        },
        "id": "Rdrq2fWJVTG5",
        "outputId": "94b45735-502e-4282-85ac-3aa30a279a61"
      },
      "source": [
        "from google.colab import drive\n",
        "drive.mount('/content/drive')"
      ],
      "execution_count": null,
      "outputs": [
        {
          "output_type": "stream",
          "name": "stdout",
          "text": [
            "Mounted at /content/drive\n"
          ]
        }
      ]
    },
    {
      "cell_type": "code",
      "metadata": {
        "colab": {
          "base_uri": "https://localhost:8080/"
        },
        "id": "W6U9rw-859cn",
        "outputId": "00f4ef13-3998-4d6d-aef8-76e08ec35fd1"
      },
      "source": [
        "!pip install tensorboardX"
      ],
      "execution_count": null,
      "outputs": [
        {
          "output_type": "stream",
          "name": "stdout",
          "text": [
            "Collecting tensorboardX\n",
            "  Downloading tensorboardX-2.4-py2.py3-none-any.whl (124 kB)\n",
            "\u001b[?25l\r\u001b[K     |██▋                             | 10 kB 23.2 MB/s eta 0:00:01\r\u001b[K     |█████▎                          | 20 kB 21.5 MB/s eta 0:00:01\r\u001b[K     |████████                        | 30 kB 10.3 MB/s eta 0:00:01\r\u001b[K     |██████████▌                     | 40 kB 8.4 MB/s eta 0:00:01\r\u001b[K     |█████████████▏                  | 51 kB 5.2 MB/s eta 0:00:01\r\u001b[K     |███████████████▉                | 61 kB 5.7 MB/s eta 0:00:01\r\u001b[K     |██████████████████▍             | 71 kB 6.0 MB/s eta 0:00:01\r\u001b[K     |█████████████████████           | 81 kB 6.2 MB/s eta 0:00:01\r\u001b[K     |███████████████████████▊        | 92 kB 4.7 MB/s eta 0:00:01\r\u001b[K     |██████████████████████████▎     | 102 kB 5.2 MB/s eta 0:00:01\r\u001b[K     |█████████████████████████████   | 112 kB 5.2 MB/s eta 0:00:01\r\u001b[K     |███████████████████████████████▋| 122 kB 5.2 MB/s eta 0:00:01\r\u001b[K     |████████████████████████████████| 124 kB 5.2 MB/s \n",
            "\u001b[?25hRequirement already satisfied: protobuf>=3.8.0 in /usr/local/lib/python3.7/dist-packages (from tensorboardX) (3.17.3)\n",
            "Requirement already satisfied: numpy in /usr/local/lib/python3.7/dist-packages (from tensorboardX) (1.19.5)\n",
            "Requirement already satisfied: six>=1.9 in /usr/local/lib/python3.7/dist-packages (from protobuf>=3.8.0->tensorboardX) (1.15.0)\n",
            "Installing collected packages: tensorboardX\n",
            "Successfully installed tensorboardX-2.4\n"
          ]
        }
      ]
    },
    {
      "cell_type": "code",
      "metadata": {
        "id": "_Uk_LG4kA8cW"
      },
      "source": [
        "class Config:\n",
        "    # dataset related\n",
        "    exemplar_size = 127                    # exemplar size TEST\n",
        "    instance_size = 255                    # instance size\n",
        "    context_amount = 0.5                   # context amount\n",
        "    scale_num = 3                          # the number of scale\n",
        "    gpu_id = 0                             # gpu_id\n",
        "    # training related\n",
        "    train_per_epoch = 4880                 # num of samples per epoch\n",
        "    val_per_epoch = 520                    \n",
        "    frame_range = 100                      # frame range of choosing the instance\n",
        "    train_batch_size = 8                   # training batch size\n",
        "    valid_batch_size = 8                   # validation batch size\n",
        "    train_num_workers = 8                  # number of workers of train dataloader\n",
        "    valid_num_workers = 8                  # number of workers of validation dataloader\n",
        "    lr = 1e-2                              # learning rate of SGD 0.01\n",
        "    step_size = 25                         # step size of LR_Schedular\n",
        "    gamma = 0.1                            # decay rate of LR_Schedular\n",
        "    epoch = 30                             # total epoch\n",
        "    seed = 1234                            # seed to sample training videos\n",
        "    radius = 16                            # radius of positive label\n",
        "    response_scale = 1e-3                  # normalize of response\n",
        "    max_translate = 3                      # max translation of random shift\n",
        "    momentum = 0.9                         # momentum of SGD\n",
        "    weight_decay = 1e-4                    # weight decay of optimizator                      \n",
        "\n",
        "    # tracking related\n",
        "    train_response_sz = 17                 # train response size\n",
        "    scale_step = 1.0375                    # scale step of instance image\n",
        "    num_scale = 3                          # number of scales\n",
        "    scale_lr = 0.59                        # scale learning rate\n",
        "    response_up_stride = 16                # response upsample stride\n",
        "    response_sz = 17                       # response size\n",
        "    window_influence = 0.25                # window influence\n",
        "    scale_penalty = 0.9745                 # scale penalty\n",
        "    total_stride = 8                       # total stride of backbone\n",
        "    gray_ratio = 0.25\n",
        "\n",
        "config = Config()"
      ],
      "execution_count": null,
      "outputs": []
    },
    {
      "cell_type": "code",
      "metadata": {
        "id": "3JX81Zvk_xP4"
      },
      "source": [
        "import cv2\n",
        "import numpy as np\n",
        "import glob\n",
        "import os\n",
        "from tqdm import tqdm\n",
        "from concurrent import futures\n",
        "\n",
        "datapath = '/content/drive/MyDrive/Colab Notebooks/validation'\n",
        "outputpath = '/content/drive/MyDrive/Colab Notebooks/val_crop_'\n",
        "num_processings = None\n",
        "cfg = config\n",
        "assert 1 == 2\n",
        "def _init_video(video):\n",
        "\n",
        "    frame_name_list = glob.glob(os.path.join(datapath, video)+'/**.jpg')\n",
        "    frame_name_list.sort()\n",
        "\n",
        "    try:\n",
        "        gt_file = os.path.join(datapath, video, 'groundtruth.txt')\n",
        "        try:\n",
        "            gt = np.loadtxt(gt_file, dtype=float, delimiter=',')\n",
        "        except:\n",
        "            gt = np.loadtxt(gt_file, dtype=float)\n",
        "    except:\n",
        "        gt_file = os.path.join(datapath, video, 'groundtruth_rect.txt')\n",
        "        try:\n",
        "            gt = np.loadtxt(gt_file, dtype=float, delimiter=',')\n",
        "        except:\n",
        "            gt = np.loadtxt(gt_file, dtype=float)\n",
        "\n",
        "    n_frames = len(frame_name_list)\n",
        "    assert n_frames == len(gt), 'Number of frames and number of GT lines should be equal.'\n",
        "    return gt, frame_name_list, n_frames\n",
        "\n",
        "def get_center(x):\n",
        "    return (x - 1.) / 2.\n",
        "\n",
        "def xyxy2cxcywh(bbox):\n",
        "    return get_center(bbox[0]+bbox[2]), get_center(bbox[1]+bbox[3]), (bbox[2]-bbox[0]), (bbox[3]-bbox[1])\n",
        "\n",
        "def crop_and_pad(img, cx, cy, model_sz, original_sz, img_mean=None):\n",
        "    xmin = cx - original_sz // 2\n",
        "    xmax = cx + original_sz // 2\n",
        "    ymin = cy - original_sz // 2\n",
        "    ymax = cy + original_sz // 2\n",
        "    im_h, im_w, _ = img.shape\n",
        "\n",
        "    left = right = top = bottom = 0\n",
        "    if xmin < 0:\n",
        "        left = int(abs(xmin))\n",
        "    if xmax > im_w:\n",
        "        right = int(xmax - im_w)\n",
        "    if ymin < 0:\n",
        "        top = int(abs(ymin))\n",
        "    if ymax > im_h:\n",
        "        bottom = int(ymax - im_h)\n",
        "\n",
        "    xmin = int(max(0, xmin))\n",
        "    xmax = int(min(im_w, xmax))\n",
        "    ymin = int(max(0, ymin))\n",
        "    ymax = int(min(im_h, ymax))\n",
        "    im_patch = img[ymin:ymax, xmin:xmax]\n",
        "    if left != 0 or right !=0 or top!=0 or bottom!=0:\n",
        "        if img_mean is None:\n",
        "            img_mean = tuple(map(int, img.mean(axis=(0, 1))))\n",
        "        im_patch = cv2.copyMakeBorder(im_patch, top, bottom, left, right,\n",
        "                cv2.BORDER_CONSTANT, value=img_mean)\n",
        "    if model_sz != original_sz:\n",
        "        im_patch = cv2.resize(im_patch, (model_sz, model_sz))\n",
        "    return im_patch\n",
        "\n",
        "def get_instance_image(img, bbox, size_z, size_x, context_amount, img_mean=None):\n",
        "    cx, cy, w, h = xyxy2cxcywh(bbox)\n",
        "    wc_z = w + context_amount * (w+h)\n",
        "    hc_z = h + context_amount * (w+h)\n",
        "    s_z = np.sqrt(wc_z * hc_z)\n",
        "    scale_z = size_z / s_z\n",
        "    d_search = (size_x - size_z) / 2\n",
        "    pad = d_search / scale_z\n",
        "    s_x = s_z + 2 * pad\n",
        "    scale_x = size_x / s_x\n",
        "    instance_img = crop_and_pad(img, cx, cy, size_x, s_x, img_mean)\n",
        "    return instance_img, scale_x, s_x\n",
        "\n",
        "def crop_video(video):\n",
        "\n",
        "    gt, frame_name_list, n_frames = _init_video(video)\n",
        "    savepath = os.path.join(outputpath, video)\n",
        "    if not os.path.exists(savepath):\n",
        "        os.mkdir(savepath)\n",
        "    for i in range(n_frames):\n",
        "        img = cv2.imread(frame_name_list[i])\n",
        "        img_mean = tuple(map(int, img.mean(axis=(0, 1))))\n",
        "        bbox = gt[i]\n",
        "        bbox = [int(bbox[0]), int(bbox[1]), int(bbox[0]+bbox[2]), int(bbox[1]+bbox[3])]\n",
        "        instance_img, _, _ = get_instance_image(img, bbox,\n",
        "                                                cfg.exemplar_size, cfg.instance_size, cfg.context_amount,\n",
        "                                                img_mean)\n",
        "        cv2.imwrite(savepath+\"/{:0>8d}.x.jpg\".format(i+1), instance_img)\n",
        "\n",
        "if __name__ == '__main__':\n",
        "    videos = os.listdir(datapath)\n",
        "    videos.sort()\n",
        "    for video in videos:\n",
        "        crop_video(video)"
      ],
      "execution_count": null,
      "outputs": []
    },
    {
      "cell_type": "code",
      "metadata": {
        "id": "hezRncRKRi1C"
      },
      "source": [
        "import torch\n",
        "from torch import nn\n",
        "\n",
        "class ChannelAttention(nn.Module):\n",
        "    def __init__(self, input_channel: int, total_stride: int):\n",
        "        super(ChannelAttention, self).__init__()\n",
        "\n",
        "        self.mlp = nn.Sequential(\n",
        "            nn.Conv2d(input_channel, input_channel // total_stride, 1, padding=0, bias=False),\n",
        "            nn.ReLU(inplace=True),\n",
        "            nn.Conv2d(input_channel // total_stride, input_channel, 1, padding=0, bias=False)\n",
        "        )\n",
        "\n",
        "        self.max_pool = nn.AdaptiveMaxPool2d(1)\n",
        "        self.avg_pool = nn.AdaptiveAvgPool2d(1)\n",
        "\n",
        "        self.sigmoid = nn.Sigmoid()\n",
        "\n",
        "    def forward(self, x: torch.Tensor) -> torch.Tensor:\n",
        "        feat_avg = self.mlp(self.avg_pool(x))\n",
        "        feat_max = self.mlp(self.max_pool(x))\n",
        "\n",
        "        return self.sigmoid(feat_avg + feat_max)\n",
        "\n",
        "class SpatialAttention(nn.Module):\n",
        "    def __init__(self):\n",
        "        super(SpatialAttention, self).__init__()\n",
        "\n",
        "        self.conv_layer = nn.Conv2d(2, 1, 7, padding=3, bias=False)\n",
        "\n",
        "        self.sigmoid = nn.Sigmoid()\n",
        "\n",
        "    def forward(self, x: torch.Tensor) -> torch.Tensor:\n",
        "        max_feature = torch.max(x, dim=1, keepdim=True)[0]\n",
        "        avg_feature = torch.mean(x, dim=1, keepdim=True)\n",
        "\n",
        "        feature_map = torch.cat((feat_avg, feat_max), dim=1)\n",
        "\n",
        "        return self.sigmoid(self.conv_layer(feature_map))"
      ],
      "execution_count": null,
      "outputs": []
    },
    {
      "cell_type": "code",
      "metadata": {
        "id": "9hGahvgC4yHr"
      },
      "source": [
        "import numpy as np\n",
        "import torch\n",
        "from torch import nn\n",
        "import torch.nn.functional as F\n",
        "\n",
        "\n",
        "class SiamFCNet(nn.Module):\n",
        "    def __init__(self, training=True):\n",
        "        super(SiamFCNet,self).__init__()\n",
        "        self.conv1 = nn.Sequential(\n",
        "            nn.Conv2d(3,96,11,2),\n",
        "            nn.BatchNorm2d(96),\n",
        "            nn.ReLU(inplace=True),\n",
        "            nn.MaxPool2d(3,2),\n",
        "            # nn.Dropout(p=0.02)\n",
        "        )\n",
        "        self.conv2 = nn.Sequential(\n",
        "            nn.Conv2d(96,256,5,1, groups=2),\n",
        "            nn.BatchNorm2d(256),\n",
        "            nn.ReLU(inplace=True),\n",
        "            nn.MaxPool2d(3, 2),\n",
        "            # nn.Dropout(p=0.03)\n",
        "        )\n",
        "        self.conv3 = nn.Sequential(\n",
        "            nn.Conv2d(256, 384, 3, 1),\n",
        "            nn.BatchNorm2d(384),\n",
        "            nn.ReLU(inplace=True),\n",
        "            # nn.Dropout(p=0.05)\n",
        "        )\n",
        "        self.conv4 = nn.Sequential(\n",
        "            nn.Conv2d(384, 192, 3, 1, groups=2),\n",
        "            nn.BatchNorm2d(192),\n",
        "            nn.ReLU(inplace=True),\n",
        "            nn.Dropout(p=0.3)\n",
        "        )\n",
        "        self.conv5 = nn.Sequential(\n",
        "            nn.Conv2d(192,256,3,1, groups=2)\n",
        "            # nn.Dropout(p=0.20)\n",
        "        )\n",
        "        # self.ca_mod1 = CBAM(96, config.total_stride)\n",
        "        # self.ca_mod2 = CBAM(256, config.total_stride)\n",
        "        # self.ca_mod3 = CBAM(384, config.total_stride)\n",
        "        # self.ca_mod4 = CBAM(192, config.total_stride)\n",
        "        # self.ca_mod5 = CBAM(256, config.total_stride)\n",
        "\n",
        "        self.ca_mod1 = ChannelAttention(96, config.total_stride)\n",
        "        self.sa_mod1 = SpatialAttention()\n",
        "        self.ca_mod2 = ChannelAttention(256, config.total_stride)\n",
        "        self.sa_mod2 = SpatialAttention()\n",
        "        self.ca_mod3 = ChannelAttention(384, config.total_stride)\n",
        "        self.sa_mod3 = SpatialAttention()\n",
        "        self.ca_mod4 = ChannelAttention(192, config.total_stride)\n",
        "        self.sa_mod4 = SpatialAttention()\n",
        "        self.ca_mod5 = ChannelAttention(256, config.total_stride)\n",
        "        self.sa_mod5 = SpatialAttention()\n",
        "\n",
        "        # self.sa = SpatialAttention()\n",
        "\n",
        "\n",
        "        self.relu = nn.ReLU(inplace=True)\n",
        "        self.bais = nn.Parameter(torch.zeros(1))\n",
        "        self.exemplar = None\n",
        "        self.training = training\n",
        "\n",
        "        if self.training:\n",
        "            #generate label\n",
        "            gt, weight = self.create_label((config.response_sz, config.response_sz))\n",
        "            # Get labels and convert it to GPU\n",
        "            with torch.cuda.device(0):\n",
        "                self.train_gt = torch.from_numpy(gt).cuda()\n",
        "                self.train_weight = torch.from_numpy(weight).cuda()\n",
        "                self.valid_gt = torch.from_numpy(gt).cuda()\n",
        "                self.valid_weight = torch.from_numpy(weight).cuda()\n",
        "            \n",
        "    def init_weights(self):\n",
        "        for m in self.modules():\n",
        "            if isinstance(m, nn.Conv2d):\n",
        "                nn.init.kaiming_normal_(m.weight.data, mode='fan_out', nonlinearity='relu')\n",
        "            elif isinstance(m, nn.BatchNorm2d):\n",
        "                m.weight.data.fill_(1)\n",
        "                m.bias.data.zero_()\n",
        "\n",
        "    # def attention_module(self, feature_map):\n",
        "    #     feature_out = self.ca(feature_map) * feature_map\n",
        "    #     feature_out = self.sa(feature_out) * feature_out\n",
        "    #     return self.relu(feature_out + feature_map)\n",
        "\n",
        "    def forward(self, z, x):\n",
        "\n",
        "        if z is not None and x is not None:\n",
        "            feature_z = self.conv1(z)\n",
        "            feature_z_ca = self.ca_mod1(feature_z) * feature_z\n",
        "            # feature_z_ca = self.sa_mod1(feature_z_ca) * feature_z_ca\n",
        "            feature_z = self.relu(feature_z + feature_z_ca)\n",
        "\n",
        "            feature_z = self.conv2(feature_z)\n",
        "            # feature_z_ca = self.ca_mod2(feature_z) * feature_z\n",
        "            # feature_z_ca = self.sa_mod2(feature_z_ca) * feature_z_ca\n",
        "            # feature_z = self.relu(feature_z + feature_z_ca)\n",
        "\n",
        "            feature_z = self.conv3(feature_z)\n",
        "            feature_z_ca = self.ca_mod3(feature_z) * feature_z\n",
        "            # feature_z_ca = self.sa_mod3(feature_z_ca) * feature_z_ca\n",
        "            feature_z = self.relu(feature_z + feature_z_ca)\n",
        "\n",
        "            feature_z = self.conv4(feature_z)\n",
        "            feature_z_ca = self.ca_mod4(feature_z) * feature_z\n",
        "            # feature_z_ca = self.sa_mod4(feature_z_ca) * feature_z_ca\n",
        "            feature_z = self.relu(feature_z + feature_z_ca)\n",
        "\n",
        "            feature_z = self.conv5(feature_z)\n",
        "            # feature_z_ca = self.ca_mod5(feature_z) * feature_z\n",
        "            # feature_z_ca = self.sa_mod5(feature_z_ca) * feature_z_ca\n",
        "            # feature_z = self.relu(feature_z + feature_z_ca) # shape = ([8, 256, 6, 6])\n",
        "\n",
        "            feature_x = self.conv1(x)\n",
        "            feature_x_ca = self.ca_mod1(feature_x) * feature_x\n",
        "            # feature_x_ca = self.sa_mod1(feature_x_ca) * feature_x_ca\n",
        "            feature_x = self.relu(feature_x + feature_x_ca)\n",
        "\n",
        "            feature_x = self.conv2(feature_x)\n",
        "            # feature_x_ca = self.ca_mod2(feature_x) * feature_x\n",
        "            # feature_x_ca = self.sa_mod2(feature_x_ca) * feature_x_ca\n",
        "            # feature_x = self.relu(feature_x + feature_x_ca)\n",
        "\n",
        "            feature_x = self.conv3(feature_x)\n",
        "            feature_x_ca = self.ca_mod3(feature_x) * feature_x\n",
        "            # feature_x_ca = self.sa_mod3(feature_x_ca) * feature_x_ca\n",
        "            feature_x = self.relu(feature_x + feature_x_ca)\n",
        "\n",
        "            feature_x = self.conv4(feature_x)\n",
        "            feature_x_ca = self.ca_mod4(feature_x) * feature_x\n",
        "            # feature_x_ca = self.sa_mod4(feature_x_ca) * feature_x_ca\n",
        "            feature_x = self.relu(feature_x + feature_x_ca)\n",
        "\n",
        "            feature_x = self.conv5(feature_x)\n",
        "            # feature_x_ca = self.ca_mod5(feature_x) * feature_x\n",
        "            # feature_x_ca = self.sa_mod5(feature_x_ca) * feature_x_ca\n",
        "            # feature_x = self.relu(feature_x + feature_x_ca) # shape = ([8, 256, 22, 22])\n",
        "\n",
        "            N = feature_x.shape[0] # N = 8\n",
        "            # reshape tensor by view [1, 2048, 22, 22]\n",
        "            feature_x = feature_x.view(1, -1, feature_x.shape[2], feature_x.shape[3])\n",
        "            score = F.conv2d(feature_x, feature_z, groups=N)*config.response_scale + self.bais\n",
        "            score = score.view(N,-1,score.shape[2],score.shape[3]) # score shape ([8, 1, 17, 17])\n",
        "            return score\n",
        "        elif z is None and x is not None:\n",
        "            feature_x = self.conv1(x)\n",
        "            # feature_x_ca = self.ca_mod1(feature_x) * feature_x\n",
        "            # feature_x = self.relu(feature_x + feature_x_ca)\n",
        "\n",
        "            feature_x = self.conv2(feature_x)\n",
        "\n",
        "            feature_x = self.conv3(feature_x)\n",
        "            # feature_x_ca = self.ca_mod3(feature_x) * feature_x\n",
        "            # feature_x = self.relu(feature_x + feature_x_ca)\n",
        "\n",
        "            feature_x = self.conv4(feature_x)\n",
        "            # feature_x_ca = self.ca_mod4(feature_x) * feature_x\n",
        "            # feature_x = self.relu(feature_x + feature_x_ca)\n",
        "\n",
        "            feature_x = self.conv5(feature_x) # shape = ([3, 256, 22, 22])\n",
        "            \n",
        "            N = feature_x.shape[0] #N = 3\n",
        "            # reshape tensor by view [1, 768, 22, 22]\n",
        "            feature_x = feature_x.view(1, -1, feature_x.shape[2], feature_x.shape[3])\n",
        "            score = F.conv2d(feature_x, self.exemplar, groups=N) * config.response_scale + self.bais\n",
        "            score = score.view(N, -1, score.shape[2], score.shape[3]) # score shape ([3, 1, 17, 17])\n",
        "            return score\n",
        "        else:\n",
        "            self.exemplar = self.conv1(z)\n",
        "            # exemplar_ca = self.ca_mod1(self.exemplar) * self.exemplar\n",
        "            # self.exemplar = self.relu(self.exemplar + exemplar_ca)\n",
        "\n",
        "            self.exemplar = self.conv2(self.exemplar)\n",
        "\n",
        "            self.exemplar = self.conv3(self.exemplar)\n",
        "            # exemplar_ca = self.ca_mod3(self.exemplar) * self.exemplar\n",
        "            # self.exemplar = self.relu(self.exemplar + exemplar_ca)\n",
        "\n",
        "            self.exemplar = self.conv4(self.exemplar)\n",
        "            # exemplar_ca = self.ca_mod4(self.exemplar) * self.exemplar\n",
        "            # self.exemplar = self.relu(self.exemplar + exemplar_ca)\n",
        "\n",
        "            self.exemplar = self.conv5(self.exemplar)\n",
        "            self.exemplar = torch.cat([self.exemplar for _ in range(3)], dim=0)\n",
        "\n",
        "\n",
        "\n",
        "    def loss(self, pred):\n",
        "        cost_function = nn.BCEWithLogitsLoss(weight=self.train_weight, reduction='sum')\n",
        "        loss = cost_function(pred, self.train_gt) #/config.train_batch_size\n",
        "        return loss\n",
        "        \n",
        "    def weighted_loss(self, pred):\n",
        "        if self.training:\n",
        "            return F.binary_cross_entropy_with_logits(pred, self.train_gt,\n",
        "                    self.train_weight, reduction='sum') / config.train_batch_size # normalize the batch_size\n",
        "        else:\n",
        "            return F.binary_cross_entropy_with_logits(pred, self.valid_gt,\n",
        "                    self.valid_weight, reduction='sum') / config.train_batch_size # normalize the batch_size\n",
        "                    \n",
        "    def create_label(self, shape):\n",
        "        h, w = shape # 17 x 17\n",
        "        # Values are generated within the half-open interval [start, stop) \n",
        "        y = np.arange(h, dtype=np.float32) - (h - 1) / 2.\n",
        "        x = np.arange(w, dtype=np.float32) - (w - 1) / 2.\n",
        "        y, x = np.meshgrid(y, x)\n",
        "        dist = np.sqrt(x ** 2 + y ** 2)\n",
        "        label = np.zeros((h, w)) \n",
        "        label[dist <= config.radius / config.total_stride] = 1\n",
        "\n",
        "        #increase the dimension\n",
        "        label = label[np.newaxis, :, :]\n",
        "\n",
        "        #create same shape array with weights\n",
        "        weights = np.ones_like(label)\n",
        "        weights[label == 1] = 0.5 / np.sum(label == 1)\n",
        "        weights[label == 0] = 0.5 / np.sum(label == 0)\n",
        "        label = np.repeat(label, config.train_batch_size, axis=0)[:, np.newaxis, :, :]\n",
        "        return label.astype(np.float32), weights.astype(np.float32)"
      ],
      "execution_count": null,
      "outputs": []
    },
    {
      "cell_type": "code",
      "metadata": {
        "id": "vODMzl9Q5Jdk"
      },
      "source": [
        "import torch\n",
        "import cv2\n",
        "import os\n",
        "import numpy as np\n",
        "from torch.utils.data.dataset import Dataset\n",
        "np.random.seed(2)\n",
        "\n",
        "class Dataset_GOT(Dataset):\n",
        "    def __init__(self, data_dir, z_transforms, x_transforms, training=True):\n",
        "        self.data_dir = data_dir\n",
        "        self.videos = os.listdir(data_dir)\n",
        "        self.z_transforms = z_transforms\n",
        "        self.x_transforms = x_transforms\n",
        "        if training:\n",
        "            self.num = config.train_per_epoch\n",
        "        else:\n",
        "            self.num = config.val_per_epoch\n",
        "\n",
        "\n",
        "    def __getitem__(self, index):\n",
        "        index = index % len(self.videos)\n",
        "        video = self.videos[index]\n",
        "        video_path = os.path.join(self.data_dir, video)\n",
        "        n_frames = len(os.listdir(video_path))\n",
        "        z_id = np.random.choice(n_frames)\n",
        "        z_path = os.path.join(video_path, \"{:0>8d}.x.jpg\".format(z_id+1))\n",
        "        z = cv2.imread(z_path, cv2.IMREAD_COLOR)\n",
        "        z = cv2.cvtColor(z, cv2.COLOR_BGR2RGB)\n",
        "        low_limit = max(0, z_id - config.frame_range)\n",
        "        up_limit = min(n_frames, z_id + config.frame_range)\n",
        "        x_id = np.random.choice(range(low_limit,up_limit))\n",
        "        x_path = os.path.join(video_path, \"{:0>8d}.x.jpg\".format(x_id+1))\n",
        "        x = cv2.imread(x_path, cv2.IMREAD_COLOR)\n",
        "        x = cv2.cvtColor(x, cv2.COLOR_BGR2RGB)\n",
        "        if np.random.rand(1) < config.gray_ratio: # data augmentation for gray image to color image\n",
        "            z = cv2.cvtColor(z, cv2.COLOR_RGB2GRAY)\n",
        "            z = cv2.cvtColor(z, cv2.COLOR_GRAY2RGB)\n",
        "            x = cv2.cvtColor(x, cv2.COLOR_RGB2GRAY)\n",
        "            x = cv2.cvtColor(x, cv2.COLOR_GRAY2RGB)\n",
        "        z = self.z_transforms(z)\n",
        "        x = self.x_transforms(x)\n",
        "        return z, x\n",
        "\n",
        "    def __len__(self):\n",
        "        return self.num"
      ],
      "execution_count": null,
      "outputs": []
    },
    {
      "cell_type": "code",
      "metadata": {
        "id": "mdgLbVww5ZWp"
      },
      "source": [
        "# import torch\n",
        "# import numpy as np\n",
        "# import cv2\n",
        "\n",
        "class CenterCrop(object):\n",
        "    def __init__(self, size):\n",
        "        self.size = size\n",
        "\n",
        "    def __call__(self, sample):\n",
        "        shape = sample.shape[:2]\n",
        "        cy, cx = (shape[0]-1) // 2, (shape[1]-1) // 2\n",
        "        ymin, xmin = cy - self.size[0]//2, cx - self.size[1] // 2\n",
        "        ymax, xmax = cy + self.size[0]//2 + self.size[0] % 2,\\\n",
        "                     cx + self.size[1]//2 + self.size[1] % 2\n",
        "        left = right = top = bottom = 0\n",
        "        im_h, im_w = shape\n",
        "        if xmin < 0:\n",
        "            left = int(abs(xmin))\n",
        "        if xmax > im_w:\n",
        "            right = int(xmax - im_w)\n",
        "        if ymin < 0:\n",
        "            top = int(abs(ymin))\n",
        "        if ymax > im_h:\n",
        "            bottom = int(ymax - im_h)\n",
        "\n",
        "        xmin = int(max(0, xmin))\n",
        "        xmax = int(min(im_w, xmax))\n",
        "        ymin = int(max(0, ymin))\n",
        "        ymax = int(min(im_h, ymax))\n",
        "        im_patch = sample[ymin:ymax, xmin:xmax]\n",
        "        if left != 0 or right !=0 or top!=0 or bottom!=0:\n",
        "            im_patch = cv2.copyMakeBorder(im_patch, top, bottom, left, right,\n",
        "                    cv2.BORDER_CONSTANT, value=0)\n",
        "        return im_patch\n",
        "\n",
        "class RandomCrop(object):\n",
        "    def __init__(self, size, max_translate):\n",
        "        self.size = size\n",
        "        self.max_translate = max_translate\n",
        "\n",
        "    def __call__(self, sample):\n",
        "        shape = sample.shape[:2]\n",
        "        cy_o = (shape[0] - 1) // 2\n",
        "        cx_o = (shape[1] - 1) // 2\n",
        "        cy = np.random.randint(cy_o - self.max_translate, \n",
        "                               cy_o + self.max_translate+1)\n",
        "        cx = np.random.randint(cx_o - self.max_translate,\n",
        "                               cx_o + self.max_translate+1)\n",
        "        assert abs(cy-cy_o) <= self.max_translate and \\\n",
        "                abs(cx-cx_o) <= self.max_translate\n",
        "        ymin = cy - self.size[0] // 2\n",
        "        xmin = cx - self.size[1] // 2\n",
        "        ymax = cy + self.size[0] // 2 + self.size[0] % 2\n",
        "        xmax = cx + self.size[1] // 2 + self.size[1] % 2\n",
        "        left = right = top = bottom = 0\n",
        "        im_h, im_w = shape\n",
        "        if xmin < 0:\n",
        "            left = int(abs(xmin))\n",
        "        if xmax > im_w:\n",
        "            right = int(xmax - im_w)\n",
        "        if ymin < 0:\n",
        "            top = int(abs(ymin))\n",
        "        if ymax > im_h:\n",
        "            bottom = int(ymax - im_h)\n",
        "\n",
        "        xmin = int(max(0, xmin))\n",
        "        xmax = int(min(im_w, xmax))\n",
        "        ymin = int(max(0, ymin))\n",
        "        ymax = int(min(im_h, ymax))\n",
        "        im_patch = sample[ymin:ymax, xmin:xmax]\n",
        "        if left != 0 or right !=0 or top!=0 or bottom!=0:\n",
        "            im_patch = cv2.copyMakeBorder(im_patch, top, bottom, left, right,\n",
        "                    cv2.BORDER_CONSTANT, value=0)\n",
        "        return im_patch\n",
        "\n",
        "class RandomStretch(object):\n",
        "    def __init__(self, max_stretch=0.05):\n",
        "        self.max_stretch = max_stretch\n",
        "\n",
        "    def __call__(self, sample):\n",
        "        scale_h = 1.0 + np.random.uniform(-self.max_stretch, self.max_stretch)\n",
        "        scale_w = 1.0 + np.random.uniform(-self.max_stretch, self.max_stretch)\n",
        "        h, w = sample.shape[:2]\n",
        "        shape = (int(h * scale_h), int(w * scale_w))\n",
        "        return cv2.resize(sample, shape, cv2.INTER_LINEAR)\n",
        "\n",
        "class ToTensor(object):\n",
        "    def __call__(self, sample):\n",
        "        sample = sample.transpose(2, 0, 1)\n",
        "        return torch.from_numpy(sample.astype(np.float32))"
      ],
      "execution_count": null,
      "outputs": []
    },
    {
      "cell_type": "code",
      "metadata": {
        "id": "Q6i5Jp545gZH",
        "colab": {
          "base_uri": "https://localhost:8080/",
          "height": 1000
        },
        "outputId": "61a4bee8-bec9-4ca1-ae41-81a0f1de73b0"
      },
      "source": [
        "import torch\n",
        "import torch.nn.functional as F\n",
        "import torch.optim as optim\n",
        "import torchvision.transforms as transforms\n",
        "import torchvision\n",
        "import numpy as np\n",
        "import os\n",
        "import cv2\n",
        "from torch.autograd import Variable\n",
        "from torch.optim.lr_scheduler import StepLR\n",
        "from torch.utils.data import DataLoader\n",
        "from glob import glob\n",
        "from tqdm import tqdm\n",
        "from tensorboardX import SummaryWriter\n",
        "import matplotlib.pyplot as plt\n",
        "import sys\n",
        "\n",
        "torch.manual_seed(1234)\n",
        "\n",
        "train_data_dir = '/content/drive/MyDrive/Colab Notebooks/train_crop'\n",
        "val_data_dir = '/content/drive/MyDrive/Colab Notebooks/val_crop'\n",
        "\n",
        "def main():\n",
        "\n",
        "\n",
        "    train_z_transforms = transforms.Compose([\n",
        "        RandomStretch(),\n",
        "        CenterCrop((config.exemplar_size, config.exemplar_size)),\n",
        "        ToTensor()\n",
        "    ])\n",
        "    train_x_transforms = transforms.Compose([\n",
        "        RandomStretch(),\n",
        "        RandomCrop((config.instance_size, config.instance_size),\n",
        "                   config.max_translate),\n",
        "        ToTensor()\n",
        "    ])\n",
        "    val_z_transforms = transforms.Compose([\n",
        "        CenterCrop((config.exemplar_size, config.exemplar_size)),\n",
        "        ToTensor()\n",
        "    ])\n",
        "    val_x_transforms = transforms.Compose([\n",
        "        ToTensor()\n",
        "    ])\n",
        "\n",
        "    # create training dataset & validation dataset\n",
        "    train_dataset = Dataset_GOT(train_data_dir, train_z_transforms, train_x_transforms)\n",
        "    valid_dataset = Dataset_GOT(val_data_dir, val_z_transforms, val_x_transforms, training=False)\n",
        "\n",
        "    trainloader = DataLoader(train_dataset, batch_size=config.train_batch_size,\n",
        "                             shuffle=True, pin_memory=True, num_workers=config.train_num_workers, drop_last=True)\n",
        "    validloader = DataLoader(valid_dataset, batch_size=config.valid_batch_size,\n",
        "                             shuffle=False, pin_memory=True, num_workers=config.valid_num_workers, drop_last=True)\n",
        "\n",
        "    # training-start\n",
        "    with torch.cuda.device(0):\n",
        "        total_train_loss = []\n",
        "        total_val_loss = []\n",
        "        model = SiamFCNet()\n",
        "        model.init_weights()\n",
        "        model = model.cuda()\n",
        "        optimizer = torch.optim.SGD(model.parameters(), lr=config.lr, momentum=config.momentum, weight_decay=config.weight_decay)\n",
        "        schdeuler = StepLR(optimizer, step_size=config.step_size,\n",
        "                           gamma=config.gamma)\n",
        "\n",
        "        for epoch in range(config.epoch):\n",
        "            train_loss = []\n",
        "            model.train()\n",
        "            for i, data in enumerate(tqdm(trainloader)):\n",
        "                z, x = data\n",
        "                z, x = Variable(z.cuda()), Variable(x.cuda())\n",
        "                optimizer.zero_grad()\n",
        "                outputs = model(z, x)\n",
        "                loss = model.weighted_loss(outputs)\n",
        "                loss.backward()\n",
        "                optimizer.step()\n",
        "                step = epoch * len(trainloader) + i\n",
        "                train_loss.append(loss.data.cpu().numpy())\n",
        "            train_loss = np.mean(train_loss)\n",
        "            total_train_loss.append(train_loss)\n",
        "            valid_loss = []\n",
        "            model.eval()\n",
        "            for i, data in enumerate(tqdm(validloader)):\n",
        "                z, x = data\n",
        "                z, x = Variable(z.cuda()), Variable(x.cuda())\n",
        "                outputs = model(z, x)\n",
        "                loss = model.weighted_loss(outputs)\n",
        "                valid_loss.append(loss.data.cpu().numpy())\n",
        "            valid_loss = np.mean(valid_loss)\n",
        "            total_val_loss.append(valid_loss)\n",
        "            print(\"EPOCH %d valid_loss: %.4f, train_loss: %.4f, learning_rate: %.4f\" %\n",
        "                  (epoch, valid_loss, train_loss, optimizer.param_groups[0][\"lr\"]))\n",
        "            torch.save(model.cpu().state_dict(),\n",
        "                       \"/content/drive/MyDrive/Colab Notebooks/model_new3/siamfc_{}.pth\".format(epoch + 1))\n",
        "            model.cuda()\n",
        "            schdeuler.step()\n",
        "\n",
        "        plt.plot(total_train_loss, label = \"Training loss\")\n",
        "        plt.plot(total_val_loss, label = \"Testing loss\")\n",
        "        plt.legend()\n",
        "        print('')\n",
        "        print('')\n",
        "        print('')\n",
        "        print('')\n",
        "        print('total_train_loss', total_train_loss)\n",
        "        print('total_val_loss', total_val_loss)\n",
        "\n",
        "if __name__ == '__main__':\n",
        "    sys.exit(main())"
      ],
      "execution_count": null,
      "outputs": [
        {
          "output_type": "stream",
          "name": "stderr",
          "text": [
            "/usr/local/lib/python3.7/dist-packages/torch/utils/data/dataloader.py:481: UserWarning: This DataLoader will create 8 worker processes in total. Our suggested max number of worker in current system is 2, which is smaller than what this DataLoader is going to create. Please be aware that excessive worker creation might get DataLoader running slow or even freeze, lower the worker number to avoid potential slowness/freeze if necessary.\n",
            "  cpuset_checked))\n",
            "100%|██████████| 610/610 [01:37<00:00,  6.23it/s]\n",
            "100%|██████████| 65/65 [00:06<00:00, 10.21it/s]\n"
          ]
        },
        {
          "output_type": "stream",
          "name": "stdout",
          "text": [
            "EPOCH 0 valid_loss: 0.3154, train_loss: 0.3479, learning_rate: 0.0100\n"
          ]
        },
        {
          "output_type": "stream",
          "name": "stderr",
          "text": [
            "100%|██████████| 610/610 [01:38<00:00,  6.21it/s]\n",
            "100%|██████████| 65/65 [00:06<00:00, 10.24it/s]\n"
          ]
        },
        {
          "output_type": "stream",
          "name": "stdout",
          "text": [
            "EPOCH 1 valid_loss: 0.2898, train_loss: 0.2317, learning_rate: 0.0100\n"
          ]
        },
        {
          "output_type": "stream",
          "name": "stderr",
          "text": [
            "100%|██████████| 610/610 [01:38<00:00,  6.22it/s]\n",
            "100%|██████████| 65/65 [00:06<00:00,  9.93it/s]\n"
          ]
        },
        {
          "output_type": "stream",
          "name": "stdout",
          "text": [
            "EPOCH 2 valid_loss: 0.2843, train_loss: 0.1951, learning_rate: 0.0100\n"
          ]
        },
        {
          "output_type": "stream",
          "name": "stderr",
          "text": [
            "100%|██████████| 610/610 [01:38<00:00,  6.21it/s]\n",
            "100%|██████████| 65/65 [00:06<00:00, 10.20it/s]\n"
          ]
        },
        {
          "output_type": "stream",
          "name": "stdout",
          "text": [
            "EPOCH 3 valid_loss: 0.3173, train_loss: 0.1741, learning_rate: 0.0100\n"
          ]
        },
        {
          "output_type": "stream",
          "name": "stderr",
          "text": [
            "100%|██████████| 610/610 [01:38<00:00,  6.21it/s]\n",
            "100%|██████████| 65/65 [00:06<00:00,  9.93it/s]\n"
          ]
        },
        {
          "output_type": "stream",
          "name": "stdout",
          "text": [
            "EPOCH 4 valid_loss: 0.3075, train_loss: 0.1574, learning_rate: 0.0100\n"
          ]
        },
        {
          "output_type": "stream",
          "name": "stderr",
          "text": [
            "100%|██████████| 610/610 [01:37<00:00,  6.22it/s]\n",
            "100%|██████████| 65/65 [00:06<00:00, 10.24it/s]\n"
          ]
        },
        {
          "output_type": "stream",
          "name": "stdout",
          "text": [
            "EPOCH 5 valid_loss: 0.3122, train_loss: 0.1495, learning_rate: 0.0100\n"
          ]
        },
        {
          "output_type": "stream",
          "name": "stderr",
          "text": [
            "100%|██████████| 610/610 [01:38<00:00,  6.21it/s]\n",
            "100%|██████████| 65/65 [00:06<00:00, 10.12it/s]\n"
          ]
        },
        {
          "output_type": "stream",
          "name": "stdout",
          "text": [
            "EPOCH 6 valid_loss: 0.3248, train_loss: 0.1379, learning_rate: 0.0100\n"
          ]
        },
        {
          "output_type": "stream",
          "name": "stderr",
          "text": [
            "100%|██████████| 610/610 [01:37<00:00,  6.23it/s]\n",
            "100%|██████████| 65/65 [00:06<00:00, 10.30it/s]\n"
          ]
        },
        {
          "output_type": "stream",
          "name": "stdout",
          "text": [
            "EPOCH 7 valid_loss: 0.3223, train_loss: 0.1315, learning_rate: 0.0100\n"
          ]
        },
        {
          "output_type": "stream",
          "name": "stderr",
          "text": [
            "100%|██████████| 610/610 [01:38<00:00,  6.22it/s]\n",
            "100%|██████████| 65/65 [00:06<00:00,  9.85it/s]\n"
          ]
        },
        {
          "output_type": "stream",
          "name": "stdout",
          "text": [
            "EPOCH 8 valid_loss: 0.2973, train_loss: 0.1248, learning_rate: 0.0100\n"
          ]
        },
        {
          "output_type": "stream",
          "name": "stderr",
          "text": [
            "100%|██████████| 610/610 [01:38<00:00,  6.20it/s]\n",
            "100%|██████████| 65/65 [00:06<00:00, 10.10it/s]\n"
          ]
        },
        {
          "output_type": "stream",
          "name": "stdout",
          "text": [
            "EPOCH 9 valid_loss: 0.3688, train_loss: 0.1216, learning_rate: 0.0100\n"
          ]
        },
        {
          "output_type": "stream",
          "name": "stderr",
          "text": [
            "100%|██████████| 610/610 [01:38<00:00,  6.22it/s]\n",
            "100%|██████████| 65/65 [00:06<00:00, 10.11it/s]\n"
          ]
        },
        {
          "output_type": "stream",
          "name": "stdout",
          "text": [
            "EPOCH 10 valid_loss: 0.3179, train_loss: 0.1144, learning_rate: 0.0100\n"
          ]
        },
        {
          "output_type": "stream",
          "name": "stderr",
          "text": [
            "100%|██████████| 610/610 [01:38<00:00,  6.18it/s]\n",
            "100%|██████████| 65/65 [00:06<00:00,  9.93it/s]\n"
          ]
        },
        {
          "output_type": "stream",
          "name": "stdout",
          "text": [
            "EPOCH 11 valid_loss: 0.4056, train_loss: 0.1138, learning_rate: 0.0100\n"
          ]
        },
        {
          "output_type": "stream",
          "name": "stderr",
          "text": [
            "100%|██████████| 610/610 [01:38<00:00,  6.19it/s]\n",
            "100%|██████████| 65/65 [00:06<00:00,  9.98it/s]\n"
          ]
        },
        {
          "output_type": "stream",
          "name": "stdout",
          "text": [
            "EPOCH 12 valid_loss: 0.2819, train_loss: 0.1097, learning_rate: 0.0100\n"
          ]
        },
        {
          "output_type": "stream",
          "name": "stderr",
          "text": [
            "100%|██████████| 610/610 [01:38<00:00,  6.21it/s]\n",
            "100%|██████████| 65/65 [00:06<00:00, 10.18it/s]\n"
          ]
        },
        {
          "output_type": "stream",
          "name": "stdout",
          "text": [
            "EPOCH 13 valid_loss: 0.3575, train_loss: 0.1039, learning_rate: 0.0100\n"
          ]
        },
        {
          "output_type": "stream",
          "name": "stderr",
          "text": [
            "100%|██████████| 610/610 [01:38<00:00,  6.21it/s]\n",
            "100%|██████████| 65/65 [00:06<00:00, 10.31it/s]\n"
          ]
        },
        {
          "output_type": "stream",
          "name": "stdout",
          "text": [
            "EPOCH 14 valid_loss: 0.4588, train_loss: 0.1034, learning_rate: 0.0100\n"
          ]
        },
        {
          "output_type": "stream",
          "name": "stderr",
          "text": [
            "100%|██████████| 610/610 [01:38<00:00,  6.19it/s]\n",
            "100%|██████████| 65/65 [00:06<00:00, 10.34it/s]\n"
          ]
        },
        {
          "output_type": "stream",
          "name": "stdout",
          "text": [
            "EPOCH 15 valid_loss: 0.2722, train_loss: 0.1008, learning_rate: 0.0100\n"
          ]
        },
        {
          "output_type": "stream",
          "name": "stderr",
          "text": [
            "100%|██████████| 610/610 [01:38<00:00,  6.22it/s]\n",
            "100%|██████████| 65/65 [00:06<00:00, 10.06it/s]\n"
          ]
        },
        {
          "output_type": "stream",
          "name": "stdout",
          "text": [
            "EPOCH 16 valid_loss: 0.3067, train_loss: 0.0966, learning_rate: 0.0100\n"
          ]
        },
        {
          "output_type": "stream",
          "name": "stderr",
          "text": [
            "100%|██████████| 610/610 [01:38<00:00,  6.19it/s]\n",
            "100%|██████████| 65/65 [00:06<00:00, 10.03it/s]\n"
          ]
        },
        {
          "output_type": "stream",
          "name": "stdout",
          "text": [
            "EPOCH 17 valid_loss: 0.2946, train_loss: 0.0940, learning_rate: 0.0100\n"
          ]
        },
        {
          "output_type": "stream",
          "name": "stderr",
          "text": [
            "100%|██████████| 610/610 [01:38<00:00,  6.21it/s]\n",
            "100%|██████████| 65/65 [00:06<00:00,  9.91it/s]\n"
          ]
        },
        {
          "output_type": "stream",
          "name": "stdout",
          "text": [
            "EPOCH 18 valid_loss: 0.3843, train_loss: 0.0955, learning_rate: 0.0100\n"
          ]
        },
        {
          "output_type": "stream",
          "name": "stderr",
          "text": [
            "100%|██████████| 610/610 [01:38<00:00,  6.19it/s]\n",
            "100%|██████████| 65/65 [00:06<00:00, 10.42it/s]\n"
          ]
        },
        {
          "output_type": "stream",
          "name": "stdout",
          "text": [
            "EPOCH 19 valid_loss: 0.3065, train_loss: 0.0942, learning_rate: 0.0100\n"
          ]
        },
        {
          "output_type": "stream",
          "name": "stderr",
          "text": [
            "100%|██████████| 610/610 [01:38<00:00,  6.19it/s]\n",
            "100%|██████████| 65/65 [00:06<00:00, 10.05it/s]\n"
          ]
        },
        {
          "output_type": "stream",
          "name": "stdout",
          "text": [
            "EPOCH 20 valid_loss: 0.3065, train_loss: 0.0911, learning_rate: 0.0100\n"
          ]
        },
        {
          "output_type": "stream",
          "name": "stderr",
          "text": [
            "100%|██████████| 610/610 [01:38<00:00,  6.17it/s]\n",
            "100%|██████████| 65/65 [00:06<00:00, 10.15it/s]\n"
          ]
        },
        {
          "output_type": "stream",
          "name": "stdout",
          "text": [
            "EPOCH 21 valid_loss: 0.3024, train_loss: 0.0865, learning_rate: 0.0100\n"
          ]
        },
        {
          "output_type": "stream",
          "name": "stderr",
          "text": [
            "100%|██████████| 610/610 [01:38<00:00,  6.17it/s]\n",
            "100%|██████████| 65/65 [00:06<00:00, 10.41it/s]\n"
          ]
        },
        {
          "output_type": "stream",
          "name": "stdout",
          "text": [
            "EPOCH 22 valid_loss: 0.3220, train_loss: 0.0856, learning_rate: 0.0100\n"
          ]
        },
        {
          "output_type": "stream",
          "name": "stderr",
          "text": [
            "100%|██████████| 610/610 [01:38<00:00,  6.18it/s]\n",
            "100%|██████████| 65/65 [00:06<00:00, 10.36it/s]\n"
          ]
        },
        {
          "output_type": "stream",
          "name": "stdout",
          "text": [
            "EPOCH 23 valid_loss: 0.2904, train_loss: 0.0860, learning_rate: 0.0100\n"
          ]
        },
        {
          "output_type": "stream",
          "name": "stderr",
          "text": [
            "100%|██████████| 610/610 [01:38<00:00,  6.19it/s]\n",
            "100%|██████████| 65/65 [00:06<00:00, 10.30it/s]\n"
          ]
        },
        {
          "output_type": "stream",
          "name": "stdout",
          "text": [
            "EPOCH 24 valid_loss: 0.3115, train_loss: 0.0855, learning_rate: 0.0100\n"
          ]
        },
        {
          "output_type": "stream",
          "name": "stderr",
          "text": [
            "100%|██████████| 610/610 [01:38<00:00,  6.20it/s]\n",
            "100%|██████████| 65/65 [00:06<00:00, 10.32it/s]\n"
          ]
        },
        {
          "output_type": "stream",
          "name": "stdout",
          "text": [
            "EPOCH 25 valid_loss: 0.2811, train_loss: 0.0757, learning_rate: 0.0010\n"
          ]
        },
        {
          "output_type": "stream",
          "name": "stderr",
          "text": [
            "100%|██████████| 610/610 [01:38<00:00,  6.18it/s]\n",
            "100%|██████████| 65/65 [00:06<00:00, 10.30it/s]\n"
          ]
        },
        {
          "output_type": "stream",
          "name": "stdout",
          "text": [
            "EPOCH 26 valid_loss: 0.2662, train_loss: 0.0721, learning_rate: 0.0010\n"
          ]
        },
        {
          "output_type": "stream",
          "name": "stderr",
          "text": [
            "100%|██████████| 610/610 [01:38<00:00,  6.18it/s]\n",
            "100%|██████████| 65/65 [00:06<00:00, 10.13it/s]\n"
          ]
        },
        {
          "output_type": "stream",
          "name": "stdout",
          "text": [
            "EPOCH 27 valid_loss: 0.2888, train_loss: 0.0707, learning_rate: 0.0010\n"
          ]
        },
        {
          "output_type": "stream",
          "name": "stderr",
          "text": [
            "100%|██████████| 610/610 [01:38<00:00,  6.19it/s]\n",
            "100%|██████████| 65/65 [00:06<00:00, 10.20it/s]\n"
          ]
        },
        {
          "output_type": "stream",
          "name": "stdout",
          "text": [
            "EPOCH 28 valid_loss: 0.2825, train_loss: 0.0698, learning_rate: 0.0010\n"
          ]
        },
        {
          "output_type": "stream",
          "name": "stderr",
          "text": [
            "100%|██████████| 610/610 [01:38<00:00,  6.21it/s]\n",
            "100%|██████████| 65/65 [00:06<00:00, 10.20it/s]\n"
          ]
        },
        {
          "output_type": "stream",
          "name": "stdout",
          "text": [
            "EPOCH 29 valid_loss: 0.3032, train_loss: 0.0695, learning_rate: 0.0010\n",
            "\n",
            "\n",
            "\n",
            "\n",
            "total_train_loss [0.34789103, 0.23174313, 0.19510631, 0.17406827, 0.15736702, 0.14949118, 0.13787931, 0.13151978, 0.12476426, 0.121572785, 0.11435379, 0.11384258, 0.10967743, 0.10394391, 0.103399664, 0.100762844, 0.09658687, 0.09396016, 0.09545533, 0.094175845, 0.09110993, 0.08647476, 0.08556662, 0.08596877, 0.08549381, 0.07567437, 0.07212202, 0.07071772, 0.069846354, 0.0694942]\n",
            "total_val_loss [0.31541908, 0.28976026, 0.28434727, 0.317297, 0.30752215, 0.31224054, 0.32481217, 0.32228473, 0.2973034, 0.3687703, 0.31790432, 0.40560472, 0.2818659, 0.35750666, 0.4588119, 0.2722092, 0.30671728, 0.29464102, 0.3843274, 0.30651546, 0.30648914, 0.30235913, 0.32199302, 0.29039267, 0.31145346, 0.28107348, 0.26619515, 0.28875953, 0.282545, 0.3031915]\n"
          ]
        },
        {
          "output_type": "error",
          "ename": "SystemExit",
          "evalue": "ignored",
          "traceback": [
            "An exception has occurred, use %tb to see the full traceback.\n",
            "\u001b[0;31mSystemExit\u001b[0m\n"
          ]
        },
        {
          "output_type": "stream",
          "name": "stderr",
          "text": [
            "/usr/local/lib/python3.7/dist-packages/IPython/core/interactiveshell.py:2890: UserWarning: To exit: use 'exit', 'quit', or Ctrl-D.\n",
            "  warn(\"To exit: use 'exit', 'quit', or Ctrl-D.\", stacklevel=1)\n"
          ]
        },
        {
          "output_type": "display_data",
          "data": {
            "image/png": "[encoded data removed]",
            "text/plain": [
              "<Figure size 432x288 with 1 Axes>"
            ]
          },
          "metadata": {
            "needs_background": "light"
          }
        }
      ]
    },
    {
      "cell_type": "code",
      "metadata": {
        "id": "CQvi8Yhk8nB4"
      },
      "source": [
        "import numpy as np\n",
        "\n",
        "def region_to_bbox(region, center=True):\n",
        "\n",
        "    n = len(region)\n",
        "    assert n==4 or n==8, ('GT region format is invalid, should have 4 or 8 entries.')\n",
        "\n",
        "    if n==4:\n",
        "        return _rect(region, center)\n",
        "    else:\n",
        "        return _poly(region, center)\n",
        "\n",
        "# we assume the grountruth bounding boxes are saved with 0-indexing\n",
        "def _rect(region, center):\n",
        "    \n",
        "    if center:\n",
        "        x = region[0]\n",
        "        y = region[1]\n",
        "        w = region[2]\n",
        "        h = region[3]\n",
        "        cx = x+w/2\n",
        "        cy = y+h/2\n",
        "        return cx, cy, w, h\n",
        "    else:\n",
        "        #region[0] -= 1\n",
        "        #region[1] -= 1\n",
        "        return region\n",
        "\n",
        "\n",
        "def _poly(region, center):\n",
        "    cx = np.mean(region[::2])\n",
        "    cy = np.mean(region[1::2])\n",
        "    x1 = np.min(region[::2])\n",
        "    x2 = np.max(region[::2])\n",
        "    y1 = np.min(region[1::2])\n",
        "    y2 = np.max(region[1::2])\n",
        "    A1 = np.linalg.norm(region[0:2] - region[2:4]) * np.linalg.norm(region[2:4] - region[4:6])\n",
        "    A2 = (x2 - x1) * (y2 - y1)\n",
        "    s = np.sqrt(A1/A2)\n",
        "    w = s * (x2 - x1) + 1\n",
        "    h = s * (y2 - y1) + 1\n",
        "\n",
        "    if center:\n",
        "        return cx, cy, w, h\n",
        "    else:\n",
        "        return cx-w/2, cy-h/2, w, h"
      ],
      "execution_count": null,
      "outputs": []
    },
    {
      "cell_type": "code",
      "metadata": {
        "id": "5ZqzndRqNMpg"
      },
      "source": [
        "import numpy as np\n",
        "import cv2\n",
        "import torch\n",
        "import torch.nn.functional as F\n",
        "import time\n",
        "import warnings\n",
        "import torchvision.transforms as transforms\n",
        "\n",
        "from torch.autograd import Variable\n",
        "\n",
        "torch.set_num_threads(1) # otherwise pytorch will take all cpus\n",
        "\n",
        "class SiamFCTracker:\n",
        "    def __init__(self, model_path, gpu_id):\n",
        "        self.gpu_id = gpu_id\n",
        "        with torch.cuda.device(gpu_id):\n",
        "            self.model = SiamFCNet(training=False)\n",
        "            self.model.load_state_dict(torch.load(model_path))\n",
        "            self.model = self.model.cuda()\n",
        "            self.model.eval() \n",
        "        self.transforms = transforms.Compose([\n",
        "            ToTensor()\n",
        "        ])\n",
        "\n",
        "    def _cosine_window(self, size):\n",
        "        \"\"\"\n",
        "            focuses on the central region of target and weakens the background information near the bounding box edge\n",
        "        \"\"\"\n",
        "        cos_window = np.hanning(int(size[0]))[:, np.newaxis].dot(np.hanning(int(size[1]))[np.newaxis, :])\n",
        "        cos_window = cos_window.astype(np.float32)\n",
        "        cos_window /= np.sum(cos_window)\n",
        "        return cos_window\n",
        "\n",
        "    def init(self, frame, bbox):\n",
        "        # bbox: [x, y, width, height]\n",
        "        self.bbox = (bbox[0]-1, bbox[1]-1, bbox[0]-1+bbox[2], bbox[1]-1+bbox[3]) # zero based\n",
        "        self.pos = np.array([bbox[0]-1+(bbox[2]-1)/2, bbox[1]-1+(bbox[3]-1)/2])  # center x, center y, zero based\n",
        "        self.target_sz = np.array([bbox[2], bbox[3]])                            # width, height\n",
        "        # get exemplar img\n",
        "        self.img_mean = tuple(map(int, frame.mean(axis=(0, 1)))) # Calculate mean color\n",
        "        exemplar_img, scale_z, s_z = get_exemplar_image(frame, self.bbox,\n",
        "                config.exemplar_size, config.context_amount, self.img_mean)\n",
        "\n",
        "        # get exemplar feature\n",
        "        exemplar_img = self.transforms(exemplar_img)[None,:,:,:] #(127, 127, 3) to (3, 127, 127)\n",
        "\n",
        "        with torch.cuda.device(self.gpu_id):\n",
        "            exemplar_img_var = Variable(exemplar_img.cuda())\n",
        "            self.model(exemplar_img_var, None)\n",
        "\n",
        "        self.penalty = np.ones((config.num_scale)) * config.scale_penalty\n",
        "        self.penalty[config.num_scale//2] = 1 #[0.9745 1.     0.9745]\n",
        "\n",
        "        # create cosine window\n",
        "        \"\"\"upsampling score map for more accurate localization\n",
        "           from window & interpolation, can reduce the effect due to spectral leakage in sampling process\n",
        "        \"\"\"\n",
        "        self.interp_response_sz = config.response_up_stride * config.response_sz #bicubic interpolation, from 17 × 17 to 272 × 272 - accurate localization\n",
        "        self.cosine_window = self._cosine_window((self.interp_response_sz, self.interp_response_sz))\n",
        "\n",
        "        # create scalse\n",
        "        \"\"\" handle scale variations, we also search for the object over three scales. [-1, 0, 1] \"\"\"\n",
        "        self.scales = config.scale_step ** np.arange(np.ceil(config.num_scale/2)-config.num_scale,\n",
        "                np.floor(config.num_scale/2)+1)\n",
        "\n",
        "        # create s_x\n",
        "        self.s_x = s_z + (config.instance_size-config.exemplar_size) / scale_z\n",
        "\n",
        "        # arbitrary scale saturation\n",
        "        self.min_s_x = 0.2 * self.s_x \n",
        "        self.max_s_x = 5 * self.s_x\n",
        "\n",
        "    def update(self, frame):\n",
        "        # make three scales\n",
        "        size_x_scales = self.s_x * self.scales\n",
        "        # make three different scaled image. shape (255, 255, 3) \n",
        "        pyramid = get_scaled_instance_image(frame, self.pos, config.instance_size, size_x_scales, self.img_mean)\n",
        "        instance_imgs = torch.cat([self.transforms(x)[None,:,:,:] for x in pyramid], dim=0)\n",
        "\n",
        "        with torch.cuda.device(self.gpu_id):\n",
        "            instance_imgs_var = Variable(instance_imgs.cuda())\n",
        "            response_maps = self.model(None, instance_imgs_var)\n",
        "            response_maps = response_maps.data.cpu().numpy().squeeze() # (3, 17, 17)\n",
        "            #bicubic interpolation over square pixel neighborhoods\n",
        "            response_maps_up = [cv2.resize(x, (self.interp_response_sz, self.interp_response_sz), cv2.INTER_CUBIC)\n",
        "             for x in response_maps]\n",
        "        # get max score\n",
        "        max_score = np.array([x.max() for x in response_maps_up]) * self.penalty\n",
        "\n",
        "        # penalty scale change\n",
        "        scale_idx = max_score.argmax() #index which have max score\n",
        "        response_map = response_maps_up[scale_idx]\n",
        "        response_map -= response_map.min()\n",
        "        response_map /= response_map.sum()\n",
        "        response_map = (1 - config.window_influence) * response_map + \\\n",
        "                config.window_influence * self.cosine_window\n",
        "        max_r, max_c = np.unravel_index(response_map.argmax(), response_map.shape)\n",
        "\n",
        "        # displacement in interpolation response\n",
        "        disp_response_interp = np.array([max_c, max_r]) - (self.interp_response_sz-1) / 2.\n",
        "        # displacement in input\n",
        "        disp_response_input = disp_response_interp * config.total_stride / config.response_up_stride\n",
        "        # displacement in frame\n",
        "        scale = self.scales[scale_idx]\n",
        "        disp_response_frame = disp_response_input * (self.s_x * scale) / config.instance_size\n",
        "        # position in frame coordinates\n",
        "        self.pos += disp_response_frame\n",
        "        # scale damping and saturation\n",
        "        self.s_x *= ((1 - config.scale_lr) + config.scale_lr * scale)\n",
        "        self.s_x = max(self.min_s_x, min(self.max_s_x, self.s_x))\n",
        "        self.target_sz = ((1 - config.scale_lr) + config.scale_lr * scale) * self.target_sz\n",
        "        bbox = (self.pos[0] - self.target_sz[0]/2 + 1, # xmin   convert to 1-based\n",
        "                self.pos[1] - self.target_sz[1]/2 + 1, # ymin\n",
        "                self.pos[0] + self.target_sz[0]/2 + 1, # xmax\n",
        "                self.pos[1] + self.target_sz[1]/2 + 1) # ymax\n",
        "        return bbox #1-based bounding box(xmin, ymin, xmax, ymax)"
      ],
      "execution_count": null,
      "outputs": []
    },
    {
      "cell_type": "code",
      "metadata": {
        "id": "VOS4XWRpT8P8"
      },
      "source": [
        "import numpy as np\n",
        "import cv2\n",
        "\n",
        "def get_center(x):\n",
        "    return (x - 1.) / 2.\n",
        "\n",
        "def xyxy2cxcywh(bbox):\n",
        "    return get_center(bbox[0]+bbox[2]), \\\n",
        "           get_center(bbox[1]+bbox[3]), \\\n",
        "           (bbox[2]-bbox[0]), \\\n",
        "           (bbox[3]-bbox[1])\n",
        "\n",
        "def crop_and_pad(img, cx, cy, model_sz, original_sz, img_mean=None):\n",
        "    xmin = cx - original_sz // 2\n",
        "    xmax = cx + original_sz // 2\n",
        "    ymin = cy - original_sz // 2\n",
        "    ymax = cy + original_sz // 2\n",
        "    im_h, im_w, _ = img.shape\n",
        "\n",
        "    left = right = top = bottom = 0\n",
        "    if xmin < 0:\n",
        "        left = int(abs(xmin))\n",
        "    if xmax > im_w:\n",
        "        right = int(xmax - im_w)\n",
        "    if ymin < 0:\n",
        "        top = int(abs(ymin))\n",
        "    if ymax > im_h:\n",
        "        bottom = int(ymax - im_h)\n",
        "\n",
        "    xmin = int(max(0, xmin))\n",
        "    xmax = int(min(im_w, xmax))\n",
        "    ymin = int(max(0, ymin))\n",
        "    ymax = int(min(im_h, ymax))\n",
        "    im_patch = img[ymin:ymax, xmin:xmax]\n",
        "    if left != 0 or right !=0 or top!=0 or bottom!=0:\n",
        "        if img_mean is None:\n",
        "            img_mean = tuple(map(int, img.mean(axis=(0, 1))))\n",
        "        im_patch = cv2.copyMakeBorder(im_patch, top, bottom, left, right,\n",
        "                cv2.BORDER_CONSTANT, value=img_mean)\n",
        "    if model_sz != original_sz:\n",
        "        im_patch = cv2.resize(im_patch, (model_sz, model_sz))\n",
        "    return im_patch\n",
        "\n",
        "def get_exemplar_image(img, bbox, size_z, context_amount, img_mean=None):\n",
        "    # xyxy to cxcywh convertion\n",
        "    cx, cy, w, h = xyxy2cxcywh(bbox)\n",
        "    # s(w + 2p) × s(h + 2p) = exemplar_size\n",
        "    wc_z = w + context_amount * (w+h)\n",
        "    hc_z = h + context_amount * (w+h)\n",
        "    s_z = np.sqrt(wc_z * hc_z)\n",
        "    scale_z = size_z / s_z\n",
        "    exemplar_img = crop_and_pad(img, cx, cy, size_z, s_z, img_mean)\n",
        "    return exemplar_img, scale_z, s_z\n",
        "\n",
        "def get_scaled_instance_image(img, center, size_x, size_x_scales, img_mean=None):\n",
        "    if img_mean is None:\n",
        "        img_mean = tuple(map(int, img.mean(axis=(0, 1))))\n",
        "    pyramid = [crop_and_pad(img, center[0], center[1], size_x, size_x_scale, img_mean)\n",
        "            for size_x_scale in size_x_scales]\n",
        "    return pyramid"
      ],
      "execution_count": null,
      "outputs": []
    },
    {
      "cell_type": "code",
      "metadata": {
        "id": "e5VTDezSwxS4",
        "colab": {
          "base_uri": "https://localhost:8080/"
        },
        "outputId": "f41bc68f-76b7-4b24-ba76-ce187a1fc351"
      },
      "source": [
        "import cv2\n",
        "import numpy as np\n",
        "import time\n",
        "from google.colab.patches import cv2_imshow\n",
        "import glob\n",
        "import os\n",
        "import time\n",
        "\n",
        "\n",
        "data_dir = '/content/drive/MyDrive/Colab Notebooks/test4'\n",
        "model_dir = '/content/drive/MyDrive/Colab Notebooks/model_new3/siamfc_30.pth'\n",
        "outputpath = '/content/drive/MyDrive/Colab Notebooks/video7'\n",
        "\n",
        "def _init_video(datapath, video):\n",
        "\n",
        "    frame_name_list = glob.glob(os.path.join(datapath, video)+'/**.jpg')\n",
        "    frame_name_list.sort()\n",
        "\n",
        "    try:\n",
        "        gt_file = os.path.join(datapath, video, 'groundtruth.txt')\n",
        "        try:\n",
        "            gt = np.loadtxt(gt_file, dtype=float, delimiter=',')\n",
        "        except:\n",
        "            gt = np.loadtxt(gt_file, dtype=float)\n",
        "    except:\n",
        "        gt_file = os.path.join(datapath, video, 'groundtruth_rect.txt')\n",
        "        try:\n",
        "            gt = np.loadtxt(gt_file, dtype=float, delimiter=',')\n",
        "        except:\n",
        "            gt = np.loadtxt(gt_file, dtype=float)\n",
        "\n",
        "    n_frames = len(frame_name_list)\n",
        "\n",
        "    # count of frames eqal to length of ground truth\n",
        "    # assert n_frames == len(gt)\n",
        "    return gt, frame_name_list, n_frames\n",
        "\n",
        "\n",
        "def run_SiamFC():\n",
        "\n",
        "\n",
        "    videolist = os.listdir(data_dir)\n",
        "    videolist.sort()\n",
        "    video_count = len(videolist)\n",
        "    precision_all = 0\n",
        "    iou_all = 0\n",
        "    fps_all = 0\n",
        "\n",
        "    for video in videolist:\n",
        "        gt, frame_name_list, n_frames = _init_video(data_dir, video)\n",
        "        bboxs = np.zeros((n_frames, 4)) # create matrix to save all bbox values\n",
        "        path_cor = [] # create matrix to save all path coordinates\n",
        "        tracker = SiamFCTracker(model_dir, config.gpu_id)\n",
        "        \n",
        "        start = time.time()\n",
        "        for i in range(n_frames):\n",
        "            # Open CV use BGR color. Convert BGR to RGB\n",
        "            frame = cv2.imread(frame_name_list[i], cv2.IMREAD_COLOR)\n",
        "            frame = cv2.cvtColor(frame,cv2.COLOR_BGR2RGB)\n",
        "            if i==0:\n",
        "                tracker.init(frame, gt)\n",
        "                bbox = gt\n",
        "                bbox = (bbox[0], bbox[1], bbox[0] + bbox[2], bbox[1] + bbox[3])\n",
        "            else:\n",
        "                bbox = tracker.update(frame)\n",
        "\n",
        "            bboxs[i] = [bbox[0], bbox[1], bbox[2] - bbox[0], bbox[3] - bbox[1]]\n",
        "            path_cor.append([int((bbox[2] + bbox[0])/2), int(bbox[3]+ ((bbox[1]-bbox[3])/10))])\n",
        "\n",
        "            pts = np.array(path_cor, np.int32)\n",
        "            pts = pts.reshape((-1, 1, 2))\n",
        "            cv2.polylines(frame, [pts], isClosed = False,color = (0,255,0),thickness = 3)\n",
        "\n",
        "            # visualization\n",
        "            cv2.rectangle(frame,(int(bbox[0]),int(bbox[1])),(int(bbox[2]),int(bbox[3])),(255,0,0),thickness=2)\n",
        "            frame = cv2.cvtColor(frame,cv2.COLOR_RGB2BGR)\n",
        "            # cv2_imshow(frame)\n",
        "            savepath = os.path.join(outputpath, video)\n",
        "            if not os.path.exists(savepath):\n",
        "                os.mkdir(savepath)\n",
        "            # path = savepath+str(i)+'new.jpg'\n",
        "            cv2.imwrite(savepath+\"/{:0>8d}.jpg\".format(i+1), frame)\n",
        "\n",
        "            end = time.time()\n",
        "            fps = 1/ ((end-start)/n_frames)\n",
        "        _, precision, _, iou = compile_results(gt, bboxs, 20)\n",
        "        print(\"video \" + ' -- ' + str(video) + \"  Precision: \" + str(precision) + \"  IOU: \" + str(iou) + \"  FPS: \" + str(fps))\n",
        "        precision_all = precision_all + precision\n",
        "        iou_all = iou_all + iou\n",
        "        fps_all = fps_all + fps\n",
        "\n",
        "    P = precision_all / video_count\n",
        "    I = iou_all / video_count\n",
        "    F = fps_all / video_count\n",
        "    print(\"averge_Precision:\" + str(P))\n",
        "    print(\"averge_IOU:\" + str(I))\n",
        "    print(\"averge_FPS:\" + str(F))\n",
        "    # out.release()\n",
        "\n",
        "\n",
        "def compile_results(gt, bboxes, dist_threshold):\n",
        "    l = np.size(bboxes, 0)\n",
        "    gt4 = np.zeros((l, 4))\n",
        "    new_distances = np.zeros(l)\n",
        "    new_ious = np.zeros(l)\n",
        "    n_thresholds = 50\n",
        "    precisions_ths = np.zeros(n_thresholds)\n",
        "\n",
        "    for i in range(l):\n",
        "        gt4[i, :] = region_to_bbox(gt, center=False)\n",
        "        new_distances[i] = compute_distance(bboxes[i, :], gt4[i, :])\n",
        "        new_ious[i] = compute_iou(bboxes[i, :], gt4[i, :])\n",
        "\n",
        "    # what's the percentage of frame in which center displacement is inferior to given threshold? (OTB metric)\n",
        "    precision = sum(new_distances < dist_threshold)/np.size(new_distances) * 100\n",
        "\n",
        "    # find above result for many thresholds, then report the AUC\n",
        "    thresholds = np.linspace(0, 25, n_thresholds+1)\n",
        "    thresholds = thresholds[-n_thresholds:]\n",
        "    # reverse it so that higher values of precision goes at the beginning\n",
        "    thresholds = thresholds[::-1]\n",
        "    for i in range(n_thresholds):\n",
        "        precisions_ths[i] = sum(new_distances < thresholds[i])/np.size(new_distances)\n",
        "\n",
        "    # integrate over the thresholds\n",
        "    precision_auc = np.trapz(precisions_ths)\n",
        "\n",
        "    # per frame averaged intersection over union (OTB metric)\n",
        "    iou = np.mean(new_ious) * 100\n",
        "\n",
        "    return l, precision, precision_auc, iou\n",
        "\n",
        "def compute_iou(boxA, boxB):\n",
        "    # determine the (x, y)-coordinates of the intersection rectangle\n",
        "    xA = max(boxA[0], boxB[0])\n",
        "    yA = max(boxA[1], boxB[1])\n",
        "    xB = min(boxA[0] + boxA[2], boxB[0] + boxB[2])\n",
        "    yB = min(boxA[1] + boxA[3], boxB[1] + boxB[3])\n",
        "\n",
        "    if xA < xB and yA < yB:\n",
        "        # compute the area of intersection rectangle\n",
        "        interArea = (xB - xA) * (yB - yA)\n",
        "        # compute the area of both the prediction and ground-truth\n",
        "        # rectangles\n",
        "        boxAArea = boxA[2] * boxA[3]\n",
        "        boxBArea = boxB[2] * boxB[3]\n",
        "        # compute the intersection over union by taking the intersection\n",
        "        # area and dividing it by the sum of prediction + ground-truth\n",
        "        # areas - the intersection area\n",
        "        iou = interArea / float(boxAArea + boxBArea - interArea)\n",
        "    else:\n",
        "        iou = 0\n",
        "\n",
        "    assert iou >= 0\n",
        "    assert iou <= 1.01\n",
        "    return iou\n",
        "\n",
        "def compute_distance(boxA, boxB):\n",
        "    a = np.array((boxA[0]+boxA[2]/2, boxA[1]+boxA[3]/2))\n",
        "    b = np.array((boxB[0]+boxB[2]/2, boxB[1]+boxB[3]/2))\n",
        "    dist = np.linalg.norm(a - b)\n",
        "\n",
        "    assert dist >= 0\n",
        "    assert dist != float('Inf')\n",
        "    return dist\n",
        "\n",
        "\n",
        "\n",
        "if __name__ == '__main__':\n",
        "    run_SiamFC()"
      ],
      "execution_count": null,
      "outputs": [
        {
          "output_type": "stream",
          "name": "stdout",
          "text": [
            "video  -- GOT-10k_Val_000039 (1)  Precision: 12.222222222222221  IOU: 23.415356571962384  FPS: 13.272626234373595\n",
            "averge_Precision:12.222222222222221\n",
            "averge_IOU:23.415356571962384\n",
            "averge_FPS:13.272626234373595\n"
          ]
        }
      ]
    },
    {
      "cell_type": "code",
      "metadata": {
        "id": "FXhKspjlhfKS",
        "colab": {
          "base_uri": "https://localhost:8080/"
        },
        "outputId": "cb3de354-3235-4e81-d338-e8e67165786f"
      },
      "source": [
        "import cv2\n",
        "import numpy as np\n",
        "import time\n",
        "from google.colab.patches import cv2_imshow\n",
        "import glob\n",
        "import os\n",
        "import time\n",
        "\n",
        "\n",
        "data_dir = '/content/drive/MyDrive/Colab Notebooks/video7/GOT-10k_Test_000121'\n",
        "\n",
        "frame_name_list = glob.glob(os.path.join(data_dir)+'/**.jpg')\n",
        "print(frame_name_list)\n",
        "\n",
        "def write(frames, show=False):\n",
        "        out = None\n",
        "\n",
        "        try:\n",
        "            for i in range(len(frames)):\n",
        "                frame = cv2.imread(frames[i], cv2.IMREAD_COLOR)\n",
        "                if show:\n",
        "                    cv2.imshow('video', frame)\n",
        "\n",
        "                if not out:\n",
        "                    height, width, channels = frame.shape\n",
        "                    fourcc = cv2.VideoWriter_fourcc(*'mp4v')\n",
        "                    out = cv2.VideoWriter('/content/drive/MyDrive/Colab Notebooks/test4/example22.mp4', fourcc, 12, (width, height))\n",
        "\n",
        "                out.write(frame)\n",
        "\n",
        "        finally:\n",
        "            out and out.release()\n",
        "            cv2.destroyAllWindows() \n",
        "\n",
        "write(frame_name_list, show=False)"
      ],
      "execution_count": null,
      "outputs": [
        {
          "output_type": "stream",
          "name": "stdout",
          "text": [
            "['/content/drive/MyDrive/Colab Notebooks/video7/GOT-10k_Test_000121/00000001.jpg', '/content/drive/MyDrive/Colab Notebooks/video7/GOT-10k_Test_000121/00000002.jpg', '/content/drive/MyDrive/Colab Notebooks/video7/GOT-10k_Test_000121/00000003.jpg', '/content/drive/MyDrive/Colab Notebooks/video7/GOT-10k_Test_000121/00000004.jpg', '/content/drive/MyDrive/Colab Notebooks/video7/GOT-10k_Test_000121/00000005.jpg', '/content/drive/MyDrive/Colab Notebooks/video7/GOT-10k_Test_000121/00000006.jpg', '/content/drive/MyDrive/Colab Notebooks/video7/GOT-10k_Test_000121/00000007.jpg', '/content/drive/MyDrive/Colab Notebooks/video7/GOT-10k_Test_000121/00000008.jpg', '/content/drive/MyDrive/Colab Notebooks/video7/GOT-10k_Test_000121/00000009.jpg', '/content/drive/MyDrive/Colab Notebooks/video7/GOT-10k_Test_000121/00000010.jpg', '/content/drive/MyDrive/Colab Notebooks/video7/GOT-10k_Test_000121/00000011.jpg', '/content/drive/MyDrive/Colab Notebooks/video7/GOT-10k_Test_000121/00000012.jpg', '/content/drive/MyDrive/Colab Notebooks/video7/GOT-10k_Test_000121/00000013.jpg', '/content/drive/MyDrive/Colab Notebooks/video7/GOT-10k_Test_000121/00000014.jpg', '/content/drive/MyDrive/Colab Notebooks/video7/GOT-10k_Test_000121/00000015.jpg', '/content/drive/MyDrive/Colab Notebooks/video7/GOT-10k_Test_000121/00000016.jpg', '/content/drive/MyDrive/Colab Notebooks/video7/GOT-10k_Test_000121/00000017.jpg', '/content/drive/MyDrive/Colab Notebooks/video7/GOT-10k_Test_000121/00000018.jpg', '/content/drive/MyDrive/Colab Notebooks/video7/GOT-10k_Test_000121/00000019.jpg', '/content/drive/MyDrive/Colab Notebooks/video7/GOT-10k_Test_000121/00000020.jpg', '/content/drive/MyDrive/Colab Notebooks/video7/GOT-10k_Test_000121/00000021.jpg', '/content/drive/MyDrive/Colab Notebooks/video7/GOT-10k_Test_000121/00000022.jpg', '/content/drive/MyDrive/Colab Notebooks/video7/GOT-10k_Test_000121/00000023.jpg', '/content/drive/MyDrive/Colab Notebooks/video7/GOT-10k_Test_000121/00000024.jpg', '/content/drive/MyDrive/Colab Notebooks/video7/GOT-10k_Test_000121/00000025.jpg', '/content/drive/MyDrive/Colab Notebooks/video7/GOT-10k_Test_000121/00000026.jpg', '/content/drive/MyDrive/Colab Notebooks/video7/GOT-10k_Test_000121/00000027.jpg', '/content/drive/MyDrive/Colab Notebooks/video7/GOT-10k_Test_000121/00000028.jpg', '/content/drive/MyDrive/Colab Notebooks/video7/GOT-10k_Test_000121/00000029.jpg', '/content/drive/MyDrive/Colab Notebooks/video7/GOT-10k_Test_000121/00000030.jpg', '/content/drive/MyDrive/Colab Notebooks/video7/GOT-10k_Test_000121/00000031.jpg', '/content/drive/MyDrive/Colab Notebooks/video7/GOT-10k_Test_000121/00000032.jpg', '/content/drive/MyDrive/Colab Notebooks/video7/GOT-10k_Test_000121/00000033.jpg', '/content/drive/MyDrive/Colab Notebooks/video7/GOT-10k_Test_000121/00000034.jpg', '/content/drive/MyDrive/Colab Notebooks/video7/GOT-10k_Test_000121/00000035.jpg', '/content/drive/MyDrive/Colab Notebooks/video7/GOT-10k_Test_000121/00000036.jpg', '/content/drive/MyDrive/Colab Notebooks/video7/GOT-10k_Test_000121/00000037.jpg', '/content/drive/MyDrive/Colab Notebooks/video7/GOT-10k_Test_000121/00000038.jpg', '/content/drive/MyDrive/Colab Notebooks/video7/GOT-10k_Test_000121/00000039.jpg', '/content/drive/MyDrive/Colab Notebooks/video7/GOT-10k_Test_000121/00000040.jpg', '/content/drive/MyDrive/Colab Notebooks/video7/GOT-10k_Test_000121/00000041.jpg', '/content/drive/MyDrive/Colab Notebooks/video7/GOT-10k_Test_000121/00000042.jpg', '/content/drive/MyDrive/Colab Notebooks/video7/GOT-10k_Test_000121/00000043.jpg', '/content/drive/MyDrive/Colab Notebooks/video7/GOT-10k_Test_000121/00000044.jpg', '/content/drive/MyDrive/Colab Notebooks/video7/GOT-10k_Test_000121/00000045.jpg', '/content/drive/MyDrive/Colab Notebooks/video7/GOT-10k_Test_000121/00000046.jpg', '/content/drive/MyDrive/Colab Notebooks/video7/GOT-10k_Test_000121/00000047.jpg', '/content/drive/MyDrive/Colab Notebooks/video7/GOT-10k_Test_000121/00000048.jpg', '/content/drive/MyDrive/Colab Notebooks/video7/GOT-10k_Test_000121/00000049.jpg', '/content/drive/MyDrive/Colab Notebooks/video7/GOT-10k_Test_000121/00000050.jpg', '/content/drive/MyDrive/Colab Notebooks/video7/GOT-10k_Test_000121/00000051.jpg', '/content/drive/MyDrive/Colab Notebooks/video7/GOT-10k_Test_000121/00000052.jpg', '/content/drive/MyDrive/Colab Notebooks/video7/GOT-10k_Test_000121/00000053.jpg', '/content/drive/MyDrive/Colab Notebooks/video7/GOT-10k_Test_000121/00000054.jpg', '/content/drive/MyDrive/Colab Notebooks/video7/GOT-10k_Test_000121/00000055.jpg', '/content/drive/MyDrive/Colab Notebooks/video7/GOT-10k_Test_000121/00000056.jpg', '/content/drive/MyDrive/Colab Notebooks/video7/GOT-10k_Test_000121/00000057.jpg', '/content/drive/MyDrive/Colab Notebooks/video7/GOT-10k_Test_000121/00000058.jpg', '/content/drive/MyDrive/Colab Notebooks/video7/GOT-10k_Test_000121/00000059.jpg', '/content/drive/MyDrive/Colab Notebooks/video7/GOT-10k_Test_000121/00000060.jpg', '/content/drive/MyDrive/Colab Notebooks/video7/GOT-10k_Test_000121/00000061.jpg', '/content/drive/MyDrive/Colab Notebooks/video7/GOT-10k_Test_000121/00000062.jpg', '/content/drive/MyDrive/Colab Notebooks/video7/GOT-10k_Test_000121/00000063.jpg', '/content/drive/MyDrive/Colab Notebooks/video7/GOT-10k_Test_000121/00000064.jpg', '/content/drive/MyDrive/Colab Notebooks/video7/GOT-10k_Test_000121/00000065.jpg', '/content/drive/MyDrive/Colab Notebooks/video7/GOT-10k_Test_000121/00000066.jpg', '/content/drive/MyDrive/Colab Notebooks/video7/GOT-10k_Test_000121/00000067.jpg', '/content/drive/MyDrive/Colab Notebooks/video7/GOT-10k_Test_000121/00000068.jpg', '/content/drive/MyDrive/Colab Notebooks/video7/GOT-10k_Test_000121/00000069.jpg', '/content/drive/MyDrive/Colab Notebooks/video7/GOT-10k_Test_000121/00000070.jpg', '/content/drive/MyDrive/Colab Notebooks/video7/GOT-10k_Test_000121/00000071.jpg', '/content/drive/MyDrive/Colab Notebooks/video7/GOT-10k_Test_000121/00000072.jpg', '/content/drive/MyDrive/Colab Notebooks/video7/GOT-10k_Test_000121/00000073.jpg', '/content/drive/MyDrive/Colab Notebooks/video7/GOT-10k_Test_000121/00000074.jpg', '/content/drive/MyDrive/Colab Notebooks/video7/GOT-10k_Test_000121/00000075.jpg', '/content/drive/MyDrive/Colab Notebooks/video7/GOT-10k_Test_000121/00000076.jpg', '/content/drive/MyDrive/Colab Notebooks/video7/GOT-10k_Test_000121/00000077.jpg', '/content/drive/MyDrive/Colab Notebooks/video7/GOT-10k_Test_000121/00000078.jpg', '/content/drive/MyDrive/Colab Notebooks/video7/GOT-10k_Test_000121/00000079.jpg', '/content/drive/MyDrive/Colab Notebooks/video7/GOT-10k_Test_000121/00000080.jpg', '/content/drive/MyDrive/Colab Notebooks/video7/GOT-10k_Test_000121/00000081.jpg', '/content/drive/MyDrive/Colab Notebooks/video7/GOT-10k_Test_000121/00000082.jpg', '/content/drive/MyDrive/Colab Notebooks/video7/GOT-10k_Test_000121/00000083.jpg', '/content/drive/MyDrive/Colab Notebooks/video7/GOT-10k_Test_000121/00000084.jpg', '/content/drive/MyDrive/Colab Notebooks/video7/GOT-10k_Test_000121/00000085.jpg', '/content/drive/MyDrive/Colab Notebooks/video7/GOT-10k_Test_000121/00000086.jpg', '/content/drive/MyDrive/Colab Notebooks/video7/GOT-10k_Test_000121/00000087.jpg', '/content/drive/MyDrive/Colab Notebooks/video7/GOT-10k_Test_000121/00000088.jpg', '/content/drive/MyDrive/Colab Notebooks/video7/GOT-10k_Test_000121/00000089.jpg', '/content/drive/MyDrive/Colab Notebooks/video7/GOT-10k_Test_000121/00000090.jpg', '/content/drive/MyDrive/Colab Notebooks/video7/GOT-10k_Test_000121/00000091.jpg', '/content/drive/MyDrive/Colab Notebooks/video7/GOT-10k_Test_000121/00000092.jpg', '/content/drive/MyDrive/Colab Notebooks/video7/GOT-10k_Test_000121/00000093.jpg', '/content/drive/MyDrive/Colab Notebooks/video7/GOT-10k_Test_000121/00000094.jpg', '/content/drive/MyDrive/Colab Notebooks/video7/GOT-10k_Test_000121/00000095.jpg', '/content/drive/MyDrive/Colab Notebooks/video7/GOT-10k_Test_000121/00000096.jpg', '/content/drive/MyDrive/Colab Notebooks/video7/GOT-10k_Test_000121/00000097.jpg', '/content/drive/MyDrive/Colab Notebooks/video7/GOT-10k_Test_000121/00000098.jpg', '/content/drive/MyDrive/Colab Notebooks/video7/GOT-10k_Test_000121/00000099.jpg', '/content/drive/MyDrive/Colab Notebooks/video7/GOT-10k_Test_000121/00000100.jpg', '/content/drive/MyDrive/Colab Notebooks/video7/GOT-10k_Test_000121/00000101.jpg', '/content/drive/MyDrive/Colab Notebooks/video7/GOT-10k_Test_000121/00000102.jpg', '/content/drive/MyDrive/Colab Notebooks/video7/GOT-10k_Test_000121/00000103.jpg', '/content/drive/MyDrive/Colab Notebooks/video7/GOT-10k_Test_000121/00000104.jpg', '/content/drive/MyDrive/Colab Notebooks/video7/GOT-10k_Test_000121/00000105.jpg', '/content/drive/MyDrive/Colab Notebooks/video7/GOT-10k_Test_000121/00000106.jpg', '/content/drive/MyDrive/Colab Notebooks/video7/GOT-10k_Test_000121/00000107.jpg', '/content/drive/MyDrive/Colab Notebooks/video7/GOT-10k_Test_000121/00000108.jpg', '/content/drive/MyDrive/Colab Notebooks/video7/GOT-10k_Test_000121/00000109.jpg', '/content/drive/MyDrive/Colab Notebooks/video7/GOT-10k_Test_000121/00000110.jpg', '/content/drive/MyDrive/Colab Notebooks/video7/GOT-10k_Test_000121/00000111.jpg', '/content/drive/MyDrive/Colab Notebooks/video7/GOT-10k_Test_000121/00000112.jpg', '/content/drive/MyDrive/Colab Notebooks/video7/GOT-10k_Test_000121/00000113.jpg', '/content/drive/MyDrive/Colab Notebooks/video7/GOT-10k_Test_000121/00000114.jpg', '/content/drive/MyDrive/Colab Notebooks/video7/GOT-10k_Test_000121/00000115.jpg', '/content/drive/MyDrive/Colab Notebooks/video7/GOT-10k_Test_000121/00000116.jpg', '/content/drive/MyDrive/Colab Notebooks/video7/GOT-10k_Test_000121/00000117.jpg', '/content/drive/MyDrive/Colab Notebooks/video7/GOT-10k_Test_000121/00000118.jpg', '/content/drive/MyDrive/Colab Notebooks/video7/GOT-10k_Test_000121/00000119.jpg', '/content/drive/MyDrive/Colab Notebooks/video7/GOT-10k_Test_000121/00000120.jpg', '/content/drive/MyDrive/Colab Notebooks/video7/GOT-10k_Test_000121/00000121.jpg', '/content/drive/MyDrive/Colab Notebooks/video7/GOT-10k_Test_000121/00000122.jpg', '/content/drive/MyDrive/Colab Notebooks/video7/GOT-10k_Test_000121/00000123.jpg', '/content/drive/MyDrive/Colab Notebooks/video7/GOT-10k_Test_000121/00000124.jpg', '/content/drive/MyDrive/Colab Notebooks/video7/GOT-10k_Test_000121/00000125.jpg', '/content/drive/MyDrive/Colab Notebooks/video7/GOT-10k_Test_000121/00000126.jpg', '/content/drive/MyDrive/Colab Notebooks/video7/GOT-10k_Test_000121/00000127.jpg', '/content/drive/MyDrive/Colab Notebooks/video7/GOT-10k_Test_000121/00000128.jpg', '/content/drive/MyDrive/Colab Notebooks/video7/GOT-10k_Test_000121/00000129.jpg', '/content/drive/MyDrive/Colab Notebooks/video7/GOT-10k_Test_000121/00000130.jpg', '/content/drive/MyDrive/Colab Notebooks/video7/GOT-10k_Test_000121/00000131.jpg', '/content/drive/MyDrive/Colab Notebooks/video7/GOT-10k_Test_000121/00000132.jpg', '/content/drive/MyDrive/Colab Notebooks/video7/GOT-10k_Test_000121/00000133.jpg', '/content/drive/MyDrive/Colab Notebooks/video7/GOT-10k_Test_000121/00000134.jpg', '/content/drive/MyDrive/Colab Notebooks/video7/GOT-10k_Test_000121/00000135.jpg', '/content/drive/MyDrive/Colab Notebooks/video7/GOT-10k_Test_000121/00000136.jpg', '/content/drive/MyDrive/Colab Notebooks/video7/GOT-10k_Test_000121/00000137.jpg', '/content/drive/MyDrive/Colab Notebooks/video7/GOT-10k_Test_000121/00000138.jpg', '/content/drive/MyDrive/Colab Notebooks/video7/GOT-10k_Test_000121/00000139.jpg', '/content/drive/MyDrive/Colab Notebooks/video7/GOT-10k_Test_000121/00000140.jpg', '/content/drive/MyDrive/Colab Notebooks/video7/GOT-10k_Test_000121/00000141.jpg', '/content/drive/MyDrive/Colab Notebooks/video7/GOT-10k_Test_000121/00000142.jpg', '/content/drive/MyDrive/Colab Notebooks/video7/GOT-10k_Test_000121/00000143.jpg', '/content/drive/MyDrive/Colab Notebooks/video7/GOT-10k_Test_000121/00000144.jpg', '/content/drive/MyDrive/Colab Notebooks/video7/GOT-10k_Test_000121/00000145.jpg', '/content/drive/MyDrive/Colab Notebooks/video7/GOT-10k_Test_000121/00000146.jpg', '/content/drive/MyDrive/Colab Notebooks/video7/GOT-10k_Test_000121/00000147.jpg', '/content/drive/MyDrive/Colab Notebooks/video7/GOT-10k_Test_000121/00000148.jpg', '/content/drive/MyDrive/Colab Notebooks/video7/GOT-10k_Test_000121/00000149.jpg', '/content/drive/MyDrive/Colab Notebooks/video7/GOT-10k_Test_000121/00000150.jpg', '/content/drive/MyDrive/Colab Notebooks/video7/GOT-10k_Test_000121/00000151.jpg', '/content/drive/MyDrive/Colab Notebooks/video7/GOT-10k_Test_000121/00000152.jpg', '/content/drive/MyDrive/Colab Notebooks/video7/GOT-10k_Test_000121/00000153.jpg', '/content/drive/MyDrive/Colab Notebooks/video7/GOT-10k_Test_000121/00000154.jpg', '/content/drive/MyDrive/Colab Notebooks/video7/GOT-10k_Test_000121/00000155.jpg', '/content/drive/MyDrive/Colab Notebooks/video7/GOT-10k_Test_000121/00000156.jpg', '/content/drive/MyDrive/Colab Notebooks/video7/GOT-10k_Test_000121/00000157.jpg', '/content/drive/MyDrive/Colab Notebooks/video7/GOT-10k_Test_000121/00000158.jpg', '/content/drive/MyDrive/Colab Notebooks/video7/GOT-10k_Test_000121/00000159.jpg', '/content/drive/MyDrive/Colab Notebooks/video7/GOT-10k_Test_000121/00000160.jpg', '/content/drive/MyDrive/Colab Notebooks/video7/GOT-10k_Test_000121/00000161.jpg', '/content/drive/MyDrive/Colab Notebooks/video7/GOT-10k_Test_000121/00000162.jpg', '/content/drive/MyDrive/Colab Notebooks/video7/GOT-10k_Test_000121/00000163.jpg', '/content/drive/MyDrive/Colab Notebooks/video7/GOT-10k_Test_000121/00000164.jpg', '/content/drive/MyDrive/Colab Notebooks/video7/GOT-10k_Test_000121/00000165.jpg', '/content/drive/MyDrive/Colab Notebooks/video7/GOT-10k_Test_000121/00000166.jpg', '/content/drive/MyDrive/Colab Notebooks/video7/GOT-10k_Test_000121/00000167.jpg', '/content/drive/MyDrive/Colab Notebooks/video7/GOT-10k_Test_000121/00000168.jpg', '/content/drive/MyDrive/Colab Notebooks/video7/GOT-10k_Test_000121/00000169.jpg', '/content/drive/MyDrive/Colab Notebooks/video7/GOT-10k_Test_000121/00000170.jpg', '/content/drive/MyDrive/Colab Notebooks/video7/GOT-10k_Test_000121/00000171.jpg', '/content/drive/MyDrive/Colab Notebooks/video7/GOT-10k_Test_000121/00000172.jpg', '/content/drive/MyDrive/Colab Notebooks/video7/GOT-10k_Test_000121/00000173.jpg', '/content/drive/MyDrive/Colab Notebooks/video7/GOT-10k_Test_000121/00000174.jpg', '/content/drive/MyDrive/Colab Notebooks/video7/GOT-10k_Test_000121/00000175.jpg', '/content/drive/MyDrive/Colab Notebooks/video7/GOT-10k_Test_000121/00000176.jpg', '/content/drive/MyDrive/Colab Notebooks/video7/GOT-10k_Test_000121/00000177.jpg', '/content/drive/MyDrive/Colab Notebooks/video7/GOT-10k_Test_000121/00000178.jpg', '/content/drive/MyDrive/Colab Notebooks/video7/GOT-10k_Test_000121/00000179.jpg', '/content/drive/MyDrive/Colab Notebooks/video7/GOT-10k_Test_000121/00000180.jpg', '/content/drive/MyDrive/Colab Notebooks/video7/GOT-10k_Test_000121/00000181.jpg', '/content/drive/MyDrive/Colab Notebooks/video7/GOT-10k_Test_000121/00000182.jpg', '/content/drive/MyDrive/Colab Notebooks/video7/GOT-10k_Test_000121/00000183.jpg', '/content/drive/MyDrive/Colab Notebooks/video7/GOT-10k_Test_000121/00000184.jpg', '/content/drive/MyDrive/Colab Notebooks/video7/GOT-10k_Test_000121/00000185.jpg', '/content/drive/MyDrive/Colab Notebooks/video7/GOT-10k_Test_000121/00000186.jpg', '/content/drive/MyDrive/Colab Notebooks/video7/GOT-10k_Test_000121/00000187.jpg', '/content/drive/MyDrive/Colab Notebooks/video7/GOT-10k_Test_000121/00000188.jpg', '/content/drive/MyDrive/Colab Notebooks/video7/GOT-10k_Test_000121/00000189.jpg', '/content/drive/MyDrive/Colab Notebooks/video7/GOT-10k_Test_000121/00000190.jpg']\n"
          ]
        }
      ]
    }
  ]
}